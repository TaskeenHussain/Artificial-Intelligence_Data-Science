{
 "cells": [
  {
   "cell_type": "markdown",
   "metadata": {},
   "source": [
    "## Automatic EDA using ydata_profiling"
   ]
  },
  {
   "cell_type": "markdown",
   "metadata": {},
   "source": [
    "### YData Profiling streamlines the EDA process by automatically generating comprehensive reports. With minimal code, it provides insights into data distributions, correlations, missing values, and outliers, making data exploration fast and effective."
   ]
  },
  {
   "cell_type": "code",
   "execution_count": 1,
   "metadata": {},
   "outputs": [
    {
     "name": "stdout",
     "output_type": "stream",
     "text": [
      "Requirement already satisfied: ydata-profiling in c:\\users\\alr\\miniconda3\\envs\\new_env\\lib\\site-packages (4.12.2)\n",
      "Requirement already satisfied: scipy<1.16,>=1.4.1 in c:\\users\\alr\\miniconda3\\envs\\new_env\\lib\\site-packages (from ydata-profiling) (1.10.1)\n",
      "Requirement already satisfied: pandas!=1.4.0,<3,>1.1 in c:\\users\\alr\\miniconda3\\envs\\new_env\\lib\\site-packages (from ydata-profiling) (2.0.3)\n",
      "Requirement already satisfied: matplotlib>=3.5 in c:\\users\\alr\\miniconda3\\envs\\new_env\\lib\\site-packages (from ydata-profiling) (3.7.5)\n",
      "Requirement already satisfied: pydantic>=2 in c:\\users\\alr\\miniconda3\\envs\\new_env\\lib\\site-packages (from ydata-profiling) (2.10.6)\n",
      "Requirement already satisfied: PyYAML<6.1,>=5.0.0 in c:\\users\\alr\\miniconda3\\envs\\new_env\\lib\\site-packages (from ydata-profiling) (6.0.2)\n",
      "Requirement already satisfied: jinja2<3.2,>=2.11.1 in c:\\users\\alr\\miniconda3\\envs\\new_env\\lib\\site-packages (from ydata-profiling) (3.1.5)\n",
      "Requirement already satisfied: visions<0.8.0,>=0.7.5 in c:\\users\\alr\\miniconda3\\envs\\new_env\\lib\\site-packages (from visions[type_image_path]<0.8.0,>=0.7.5->ydata-profiling) (0.7.6)\n",
      "Requirement already satisfied: numpy<2.2,>=1.16.0 in c:\\users\\alr\\miniconda3\\envs\\new_env\\lib\\site-packages (from ydata-profiling) (1.24.4)\n",
      "Requirement already satisfied: htmlmin==0.1.12 in c:\\users\\alr\\miniconda3\\envs\\new_env\\lib\\site-packages (from ydata-profiling) (0.1.12)\n",
      "Requirement already satisfied: phik<0.13,>=0.11.1 in c:\\users\\alr\\miniconda3\\envs\\new_env\\lib\\site-packages (from ydata-profiling) (0.12.4)\n",
      "Requirement already satisfied: requests<3,>=2.24.0 in c:\\users\\alr\\miniconda3\\envs\\new_env\\lib\\site-packages (from ydata-profiling) (2.32.3)\n",
      "Requirement already satisfied: tqdm<5,>=4.48.2 in c:\\users\\alr\\miniconda3\\envs\\new_env\\lib\\site-packages (from ydata-profiling) (4.67.1)\n",
      "Requirement already satisfied: seaborn<0.14,>=0.10.1 in c:\\users\\alr\\miniconda3\\envs\\new_env\\lib\\site-packages (from ydata-profiling) (0.13.2)\n",
      "Requirement already satisfied: multimethod<2,>=1.4 in c:\\users\\alr\\miniconda3\\envs\\new_env\\lib\\site-packages (from ydata-profiling) (1.10)\n",
      "Requirement already satisfied: statsmodels<1,>=0.13.2 in c:\\users\\alr\\miniconda3\\envs\\new_env\\lib\\site-packages (from ydata-profiling) (0.14.1)\n",
      "Requirement already satisfied: typeguard<5,>=3 in c:\\users\\alr\\miniconda3\\envs\\new_env\\lib\\site-packages (from ydata-profiling) (4.4.0)\n",
      "Requirement already satisfied: imagehash==4.3.1 in c:\\users\\alr\\miniconda3\\envs\\new_env\\lib\\site-packages (from ydata-profiling) (4.3.1)\n",
      "Requirement already satisfied: wordcloud>=1.9.3 in c:\\users\\alr\\miniconda3\\envs\\new_env\\lib\\site-packages (from ydata-profiling) (1.9.4)\n",
      "Requirement already satisfied: dacite>=1.8 in c:\\users\\alr\\miniconda3\\envs\\new_env\\lib\\site-packages (from ydata-profiling) (1.9.2)\n",
      "Requirement already satisfied: PyWavelets in c:\\users\\alr\\miniconda3\\envs\\new_env\\lib\\site-packages (from imagehash==4.3.1->ydata-profiling) (1.4.1)\n",
      "Requirement already satisfied: pillow in c:\\users\\alr\\miniconda3\\envs\\new_env\\lib\\site-packages (from imagehash==4.3.1->ydata-profiling) (10.4.0)\n",
      "Requirement already satisfied: MarkupSafe>=2.0 in c:\\users\\alr\\miniconda3\\envs\\new_env\\lib\\site-packages (from jinja2<3.2,>=2.11.1->ydata-profiling) (2.1.5)\n",
      "Requirement already satisfied: contourpy>=1.0.1 in c:\\users\\alr\\miniconda3\\envs\\new_env\\lib\\site-packages (from matplotlib>=3.5->ydata-profiling) (1.1.1)\n",
      "Requirement already satisfied: cycler>=0.10 in c:\\users\\alr\\miniconda3\\envs\\new_env\\lib\\site-packages (from matplotlib>=3.5->ydata-profiling) (0.12.1)\n",
      "Requirement already satisfied: fonttools>=4.22.0 in c:\\users\\alr\\miniconda3\\envs\\new_env\\lib\\site-packages (from matplotlib>=3.5->ydata-profiling) (4.56.0)\n",
      "Requirement already satisfied: kiwisolver>=1.0.1 in c:\\users\\alr\\miniconda3\\envs\\new_env\\lib\\site-packages (from matplotlib>=3.5->ydata-profiling) (1.4.7)\n",
      "Requirement already satisfied: packaging>=20.0 in c:\\users\\alr\\miniconda3\\envs\\new_env\\lib\\site-packages (from matplotlib>=3.5->ydata-profiling) (24.2)\n",
      "Requirement already satisfied: pyparsing>=2.3.1 in c:\\users\\alr\\miniconda3\\envs\\new_env\\lib\\site-packages (from matplotlib>=3.5->ydata-profiling) (3.1.4)\n",
      "Requirement already satisfied: python-dateutil>=2.7 in c:\\users\\alr\\miniconda3\\envs\\new_env\\lib\\site-packages (from matplotlib>=3.5->ydata-profiling) (2.9.0.post0)\n",
      "Requirement already satisfied: importlib-resources>=3.2.0 in c:\\users\\alr\\miniconda3\\envs\\new_env\\lib\\site-packages (from matplotlib>=3.5->ydata-profiling) (6.4.5)\n",
      "Requirement already satisfied: pytz>=2020.1 in c:\\users\\alr\\miniconda3\\envs\\new_env\\lib\\site-packages (from pandas!=1.4.0,<3,>1.1->ydata-profiling) (2025.1)\n",
      "Requirement already satisfied: tzdata>=2022.1 in c:\\users\\alr\\miniconda3\\envs\\new_env\\lib\\site-packages (from pandas!=1.4.0,<3,>1.1->ydata-profiling) (2025.1)\n",
      "Requirement already satisfied: joblib>=0.14.1 in c:\\users\\alr\\miniconda3\\envs\\new_env\\lib\\site-packages (from phik<0.13,>=0.11.1->ydata-profiling) (1.4.2)\n",
      "Requirement already satisfied: annotated-types>=0.6.0 in c:\\users\\alr\\miniconda3\\envs\\new_env\\lib\\site-packages (from pydantic>=2->ydata-profiling) (0.7.0)\n",
      "Requirement already satisfied: pydantic-core==2.27.2 in c:\\users\\alr\\miniconda3\\envs\\new_env\\lib\\site-packages (from pydantic>=2->ydata-profiling) (2.27.2)\n",
      "Requirement already satisfied: typing-extensions>=4.12.2 in c:\\users\\alr\\miniconda3\\envs\\new_env\\lib\\site-packages (from pydantic>=2->ydata-profiling) (4.12.2)\n",
      "Requirement already satisfied: charset-normalizer<4,>=2 in c:\\users\\alr\\miniconda3\\envs\\new_env\\lib\\site-packages (from requests<3,>=2.24.0->ydata-profiling) (3.4.1)\n",
      "Requirement already satisfied: idna<4,>=2.5 in c:\\users\\alr\\miniconda3\\envs\\new_env\\lib\\site-packages (from requests<3,>=2.24.0->ydata-profiling) (3.10)\n",
      "Requirement already satisfied: urllib3<3,>=1.21.1 in c:\\users\\alr\\miniconda3\\envs\\new_env\\lib\\site-packages (from requests<3,>=2.24.0->ydata-profiling) (2.2.3)\n",
      "Requirement already satisfied: certifi>=2017.4.17 in c:\\users\\alr\\miniconda3\\envs\\new_env\\lib\\site-packages (from requests<3,>=2.24.0->ydata-profiling) (2025.1.31)\n",
      "Requirement already satisfied: patsy>=0.5.4 in c:\\users\\alr\\miniconda3\\envs\\new_env\\lib\\site-packages (from statsmodels<1,>=0.13.2->ydata-profiling) (1.0.1)\n",
      "Requirement already satisfied: colorama in c:\\users\\alr\\miniconda3\\envs\\new_env\\lib\\site-packages (from tqdm<5,>=4.48.2->ydata-profiling) (0.4.6)\n",
      "Requirement already satisfied: importlib-metadata>=3.6 in c:\\users\\alr\\miniconda3\\envs\\new_env\\lib\\site-packages (from typeguard<5,>=3->ydata-profiling) (8.5.0)\n",
      "Requirement already satisfied: attrs>=19.3.0 in c:\\users\\alr\\miniconda3\\envs\\new_env\\lib\\site-packages (from visions<0.8.0,>=0.7.5->visions[type_image_path]<0.8.0,>=0.7.5->ydata-profiling) (25.1.0)\n",
      "Requirement already satisfied: networkx>=2.4 in c:\\users\\alr\\miniconda3\\envs\\new_env\\lib\\site-packages (from visions<0.8.0,>=0.7.5->visions[type_image_path]<0.8.0,>=0.7.5->ydata-profiling) (3.1)\n",
      "Requirement already satisfied: zipp>=3.20 in c:\\users\\alr\\miniconda3\\envs\\new_env\\lib\\site-packages (from importlib-metadata>=3.6->typeguard<5,>=3->ydata-profiling) (3.20.2)\n",
      "Requirement already satisfied: six>=1.5 in c:\\users\\alr\\miniconda3\\envs\\new_env\\lib\\site-packages (from python-dateutil>=2.7->matplotlib>=3.5->ydata-profiling) (1.17.0)\n",
      "Note: you may need to restart the kernel to use updated packages.\n"
     ]
    }
   ],
   "source": [
    "pip install ydata-profiling"
   ]
  },
  {
   "cell_type": "code",
   "execution_count": 2,
   "metadata": {},
   "outputs": [
    {
     "name": "stderr",
     "output_type": "stream",
     "text": [
      "c:\\Users\\ALR\\miniconda3\\envs\\new_env\\lib\\site-packages\\tqdm\\auto.py:21: TqdmWarning: IProgress not found. Please update jupyter and ipywidgets. See https://ipywidgets.readthedocs.io/en/stable/user_install.html\n",
      "  from .autonotebook import tqdm as notebook_tqdm\n"
     ]
    }
   ],
   "source": [
    "# improt libraries\n",
    "import pandas as pd\n",
    "import seaborn as sns\n",
    "import ydata_profiling as yd"
   ]
  },
  {
   "cell_type": "code",
   "execution_count": 3,
   "metadata": {},
   "outputs": [],
   "source": [
    "# import data from seaborn\n",
    "df = sns.load_dataset('titanic')"
   ]
  },
  {
   "cell_type": "code",
   "execution_count": 5,
   "metadata": {},
   "outputs": [
    {
     "name": "stderr",
     "output_type": "stream",
     "text": [
      "Summarize dataset: 100%|██████████| 41/41 [00:06<00:00,  5.86it/s, Completed]                    \n",
      "Generate report structure: 100%|██████████| 1/1 [00:08<00:00,  8.02s/it]\n",
      "Render HTML: 100%|██████████| 1/1 [00:01<00:00,  1.88s/it]\n",
      "Export report to file: 100%|██████████| 1/1 [00:00<00:00, 62.50it/s]\n"
     ]
    }
   ],
   "source": [
    "# ydata profile report\n",
    "profile = yd.ProfileReport(df)\n",
    "profile.to_file(output_file='ydata_titanic.html')"
   ]
  },
  {
   "cell_type": "code",
   "execution_count": 6,
   "metadata": {},
   "outputs": [
    {
     "name": "stderr",
     "output_type": "stream",
     "text": [
      "Export report to file: 100%|██████████| 1/1 [00:00<00:00, 62.50it/s]\n"
     ]
    }
   ],
   "source": [
    "profile.to_file(output_file='./outputs/04_ydata_titanic.html')"
   ]
  },
  {
   "cell_type": "markdown",
   "metadata": {},
   "source": [
    "### Working on our Pak Polulation Dataset"
   ]
  },
  {
   "cell_type": "code",
   "execution_count": 8,
   "metadata": {},
   "outputs": [],
   "source": [
    "df_pop = pd.read_csv(\"./dataset_pop.pk.csv\")"
   ]
  },
  {
   "cell_type": "code",
   "execution_count": 9,
   "metadata": {},
   "outputs": [
    {
     "name": "stderr",
     "output_type": "stream",
     "text": [
      "Summarize dataset: 100%|██████████| 319/319 [01:25<00:00,  3.74it/s, Completed]                                                     \n",
      "Generate report structure: 100%|██████████| 1/1 [00:21<00:00, 21.95s/it]\n",
      "Render HTML: 100%|██████████| 1/1 [00:16<00:00, 16.86s/it]\n",
      "Export report to file: 100%|██████████| 1/1 [00:00<00:00,  3.16it/s]\n"
     ]
    }
   ],
   "source": [
    "# ydata profile report\n",
    "profile = yd.ProfileReport(df_pop)\n",
    "profile.to_file(output_file='./outputs/03b_ydata_pak_poluation.html')"
   ]
  }
 ],
 "metadata": {
  "kernelspec": {
   "display_name": "new_env",
   "language": "python",
   "name": "python3"
  },
  "language_info": {
   "codemirror_mode": {
    "name": "ipython",
    "version": 3
   },
   "file_extension": ".py",
   "mimetype": "text/x-python",
   "name": "python",
   "nbconvert_exporter": "python",
   "pygments_lexer": "ipython3",
   "version": "3.8.20"
  }
 },
 "nbformat": 4,
 "nbformat_minor": 2
}
